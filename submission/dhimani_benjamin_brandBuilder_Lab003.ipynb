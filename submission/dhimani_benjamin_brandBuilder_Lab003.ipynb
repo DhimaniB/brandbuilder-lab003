{
 "cells": [
  {
   "cell_type": "markdown",
   "id": "2f62f867",
   "metadata": {},
   "source": [
    "# 🧠 brandBuilder Lab #003: Data-Driven Campaign Studio\n",
    "\n",
    "**Lab Type:** MVP/Product  \n",
    "**Estimated Time:** 180–360 mins  \n",
    "**Skill Level:** Advanced"
   ]
  },
  {
   "cell_type": "code",
   "execution_count": null,
   "id": "a8249ddb",
   "metadata": {},
   "outputs": [],
   "source": [
    "# Let's begin by printing your name to personalize the notebook\n",
    "your_name = \"\"\n",
    "print(f\"Welcome to the lab, {your_name}!\")"
   ]
  },
  {
   "cell_type": "markdown",
   "id": "3bd70539",
   "metadata": {},
   "source": [
    "## 🔍 STAR Method Lab Prompt\n",
    "\n",
    "**Situation:**  \n",
    "[Define your marketing tech problem or opportunity.]\n",
    "\n",
    "**Task:**  \n",
    "[What are you going to build using marketing tools or Gemini AI?]\n",
    "\n",
    "**Action:**  \n",
    "[Break it into tasks using Google tools + Gemini to execute.]\n",
    "\n",
    "**Expected Result:**  \n",
    "[A page, funnel, plan, or product that shows strategy and branding.]"
   ]
  },
  {
   "cell_type": "markdown",
   "id": "4f9eb34d",
   "metadata": {},
   "source": [
    "## ✍️ Your Assignment\n",
    "\n",
    "_Use this section to complete your deliverable:_\n",
    "\n",
    "```markdown\n",
    "(Example Format)\n",
    "\n",
    "- **Campaign Title**: \"Back-to-School Boost\"  \n",
    "- **Target**: College students, local product  \n",
    "- **Tech Stack**: Gemini AI + Looker Studio (mocked)  \n",
    "- **Actions**:  \n",
    "   - Created 3 ad variants  \n",
    "   - Ran feedback survey w/ Google Forms  \n",
    "   - Visualized results in dashboard  \n",
    "- **Outcome**: Campaign plan + analytics proof-of-concept  \n",
    "```"
   ]
  }
 ],
 "metadata": {},
 "nbformat": 4,
 "nbformat_minor": 5
}
